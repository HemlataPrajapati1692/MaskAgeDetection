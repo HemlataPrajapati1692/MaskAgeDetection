{
  "nbformat": 4,
  "nbformat_minor": 0,
  "metadata": {
    "kernelspec": {
      "display_name": "Python 3",
      "language": "python",
      "name": "python3"
    },
    "language_info": {
      "codemirror_mode": {
        "name": "ipython",
        "version": 3
      },
      "file_extension": ".py",
      "mimetype": "text/x-python",
      "name": "python",
      "nbconvert_exporter": "python",
      "pygments_lexer": "ipython3",
      "version": "3.6.9"
    },
    "colab": {
      "name": "VGG_agenet.ipynb",
      "provenance": [],
      "collapsed_sections": []
    },
    "accelerator": "GPU"
  },
  "cells": [
    {
      "cell_type": "code",
      "metadata": {
        "id": "wXFvRg_4ASzQ"
      },
      "source": [
        "%reload_ext autoreload\n",
        "%autoreload 2\n",
        "import os\n",
        "os.environ[\"CUDA_DEVICE_ORDER\"]=\"PCI_BUS_ID\";\n",
        "os.environ[\"CUDA_VISIBLE_DEVICES\"]=\"0\" \n",
        "import tensorflow as tf\n",
        "from tensorflow.keras import Sequential,Model,models\n",
        "from tensorflow.keras.layers import Dense,Dropout,Flatten,BatchNormalization\n",
        "from tensorflow.keras.applications.vgg16 import VGG16\n",
        "from tensorflow.keras.preprocessing import image\n",
        "from tensorflow.keras.applications.vgg16 import preprocess_input\n",
        "import numpy as np\n",
        "import pandas as pd\n",
        "import matplotlib.pyplot as plt\n",
        "from tensorflow.keras.preprocessing import image\n",
        "from keras.preprocessing.image import ImageDataGenerator"
      ],
      "execution_count": 1,
      "outputs": []
    },
    {
      "cell_type": "code",
      "metadata": {
        "colab": {
          "base_uri": "https://localhost:8080/"
        },
        "id": "3RstSWW_Aahu",
        "outputId": "ac33d16d-49ea-48cb-891f-6c8bfb42cae7"
      },
      "source": [
        "from google.colab import drive\n",
        "drive.mount('/content/drive')"
      ],
      "execution_count": 2,
      "outputs": [
        {
          "output_type": "stream",
          "text": [
            "Mounted at /content/drive\n"
          ],
          "name": "stdout"
        }
      ]
    },
    {
      "cell_type": "code",
      "metadata": {
        "colab": {
          "base_uri": "https://localhost:8080/"
        },
        "id": "kruYKzmSASzY",
        "outputId": "6f3710a8-7738-48c8-dc4d-ccfd4b274941"
      },
      "source": [
        "gpus = tf.config.list_physical_devices('GPU')\n",
        "for gpu in gpus:\n",
        "    print(f'Found {gpu} - allowing memory growth')\n",
        "    tf.config.experimental.set_memory_growth(gpu, True)\n",
        "cpus = tf.config.list_physical_devices('CPU')\n",
        "for cpu in cpus:\n",
        "    print(f'Found {cpu}')"
      ],
      "execution_count": 3,
      "outputs": [
        {
          "output_type": "stream",
          "text": [
            "Found PhysicalDevice(name='/physical_device:GPU:0', device_type='GPU') - allowing memory growth\n",
            "Found PhysicalDevice(name='/physical_device:CPU:0', device_type='CPU')\n"
          ],
          "name": "stdout"
        }
      ]
    },
    {
      "cell_type": "code",
      "metadata": {
        "colab": {
          "base_uri": "https://localhost:8080/"
        },
        "id": "Z7fMNntrASza",
        "outputId": "983c3b05-2fba-4e26-f2b9-6b76d1b709a8"
      },
      "source": [
        "print(\"Num GPUs Available: \", len(tf.config.experimental.list_physical_devices('GPU')))"
      ],
      "execution_count": 4,
      "outputs": [
        {
          "output_type": "stream",
          "text": [
            "Num GPUs Available:  1\n"
          ],
          "name": "stdout"
        }
      ]
    },
    {
      "cell_type": "code",
      "metadata": {
        "colab": {
          "base_uri": "https://localhost:8080/"
        },
        "id": "8Qbx45ofASzb",
        "outputId": "263bfca3-4fae-4e33-8389-5981a8401376"
      },
      "source": [
        "print(np.version.version)\n",
        "from platform import python_version\n",
        "print(python_version())\n",
        "folder_path = \"/content/drive/MyDrive/dataset/age_Images\"\n",
        "img_width=224\n",
        "img_height=224\n",
        "import scipy\n",
        "import sklearn\n",
        "print(scipy.__version__)\n",
        "print(sklearn.__version__)"
      ],
      "execution_count": null,
      "outputs": [
        {
          "output_type": "stream",
          "text": [
            "1.19.4\n",
            "3.6.9\n",
            "1.4.1\n",
            "0.22.2.post1\n"
          ],
          "name": "stdout"
        }
      ]
    },
    {
      "cell_type": "code",
      "metadata": {
        "id": "H1kJ-TRhASzb"
      },
      "source": [
        "import os\n",
        "images = []\n",
        "target=[]\n",
        "image_list = os.listdir(folder_path)\n",
        "\n",
        "for i in range(len(image_list)):\n",
        "    img = os.path.join(folder_path, image_list[i])\n",
        "    img = image.load_img(img, target_size=(img_width,img_height))\n",
        "    img = image.img_to_array(img)\n",
        "    img = img/255.0\n",
        "    images.append(img)\n",
        "    target.append(image_list[i].split(\"_\",1)[0])\n",
        "\n",
        "images=np.array(images,dtype=np.float)\n",
        "target=np.array(target,dtype=np.int)"
      ],
      "execution_count": null,
      "outputs": []
    },
    {
      "cell_type": "code",
      "metadata": {
        "id": "JF6RxG7CASzb"
      },
      "source": [
        "from sklearn.model_selection import train_test_split\n",
        "X_train, X_valid, y_train, y_valid = train_test_split(images,target, test_size=0.20, random_state=0)"
      ],
      "execution_count": null,
      "outputs": []
    },
    {
      "cell_type": "code",
      "metadata": {
        "id": "OLyay2SbASzc"
      },
      "source": [
        "VGG16= tf.keras.applications.VGG16(\n",
        "    input_shape=(img_width,img_height,3), include_top=False, weights='imagenet')"
      ],
      "execution_count": null,
      "outputs": []
    },
    {
      "cell_type": "code",
      "metadata": {
        "id": "ByIT-8e9ASzc"
      },
      "source": [
        "for layer in VGG16.layers:\n",
        "    layer.trainable = False"
      ],
      "execution_count": null,
      "outputs": []
    },
    {
      "cell_type": "code",
      "metadata": {
        "id": "MYfkbayHASzc"
      },
      "source": [
        "x = VGG16.output\n",
        "# let's add a fully-connected layer\n",
        "x = Flatten()(x)\n",
        "x = Dense(32, activation='relu')(x)\n",
        "predictions = Dense(1, activation='linear')(x)\n",
        "\n",
        "# this is the model we will train\n",
        "model = Model(inputs=VGG16.input, outputs=predictions)"
      ],
      "execution_count": null,
      "outputs": []
    },
    {
      "cell_type": "code",
      "metadata": {
        "colab": {
          "base_uri": "https://localhost:8080/"
        },
        "id": "tRIZDsEYASzc",
        "outputId": "0bb7fd9e-6621-49f9-b457-c7528330a218"
      },
      "source": [
        "model.summary()"
      ],
      "execution_count": null,
      "outputs": [
        {
          "output_type": "stream",
          "text": [
            "Model: \"model_1\"\n",
            "_________________________________________________________________\n",
            "Layer (type)                 Output Shape              Param #   \n",
            "=================================================================\n",
            "input_2 (InputLayer)         [(None, 224, 224, 3)]     0         \n",
            "_________________________________________________________________\n",
            "block1_conv1 (Conv2D)        (None, 224, 224, 64)      1792      \n",
            "_________________________________________________________________\n",
            "block1_conv2 (Conv2D)        (None, 224, 224, 64)      36928     \n",
            "_________________________________________________________________\n",
            "block1_pool (MaxPooling2D)   (None, 112, 112, 64)      0         \n",
            "_________________________________________________________________\n",
            "block2_conv1 (Conv2D)        (None, 112, 112, 128)     73856     \n",
            "_________________________________________________________________\n",
            "block2_conv2 (Conv2D)        (None, 112, 112, 128)     147584    \n",
            "_________________________________________________________________\n",
            "block2_pool (MaxPooling2D)   (None, 56, 56, 128)       0         \n",
            "_________________________________________________________________\n",
            "block3_conv1 (Conv2D)        (None, 56, 56, 256)       295168    \n",
            "_________________________________________________________________\n",
            "block3_conv2 (Conv2D)        (None, 56, 56, 256)       590080    \n",
            "_________________________________________________________________\n",
            "block3_conv3 (Conv2D)        (None, 56, 56, 256)       590080    \n",
            "_________________________________________________________________\n",
            "block3_pool (MaxPooling2D)   (None, 28, 28, 256)       0         \n",
            "_________________________________________________________________\n",
            "block4_conv1 (Conv2D)        (None, 28, 28, 512)       1180160   \n",
            "_________________________________________________________________\n",
            "block4_conv2 (Conv2D)        (None, 28, 28, 512)       2359808   \n",
            "_________________________________________________________________\n",
            "block4_conv3 (Conv2D)        (None, 28, 28, 512)       2359808   \n",
            "_________________________________________________________________\n",
            "block4_pool (MaxPooling2D)   (None, 14, 14, 512)       0         \n",
            "_________________________________________________________________\n",
            "block5_conv1 (Conv2D)        (None, 14, 14, 512)       2359808   \n",
            "_________________________________________________________________\n",
            "block5_conv2 (Conv2D)        (None, 14, 14, 512)       2359808   \n",
            "_________________________________________________________________\n",
            "block5_conv3 (Conv2D)        (None, 14, 14, 512)       2359808   \n",
            "_________________________________________________________________\n",
            "block5_pool (MaxPooling2D)   (None, 7, 7, 512)         0         \n",
            "_________________________________________________________________\n",
            "flatten_1 (Flatten)          (None, 25088)             0         \n",
            "_________________________________________________________________\n",
            "dense_2 (Dense)              (None, 32)                802848    \n",
            "_________________________________________________________________\n",
            "dense_3 (Dense)              (None, 1)                 33        \n",
            "=================================================================\n",
            "Total params: 15,517,569\n",
            "Trainable params: 802,881\n",
            "Non-trainable params: 14,714,688\n",
            "_________________________________________________________________\n"
          ],
          "name": "stdout"
        }
      ]
    },
    {
      "cell_type": "code",
      "metadata": {
        "id": "a9_L_w-xASzc"
      },
      "source": [
        "# model.compile(\n",
        "#   loss='mse',\n",
        "#   optimizer='adam',\n",
        "#   metrics=['mae', 'mape', 'mse' ]\n",
        "# )\n",
        "\n",
        "model.compile(\n",
        "    optimizer='adam',\n",
        "    loss='mse',\n",
        "    metrics=[tf.keras.metrics.RootMeanSquaredError()])"
      ],
      "execution_count": 109,
      "outputs": []
    },
    {
      "cell_type": "code",
      "metadata": {
        "colab": {
          "base_uri": "https://localhost:8080/"
        },
        "id": "b8biV4uPASzd",
        "outputId": "e3e49a2f-ed55-4945-e37a-ab67d243470b"
      },
      "source": [
        "history=model.fit(X_train,y_train,batch_size=128,validation_data=(X_valid,y_valid),epochs=50)"
      ],
      "execution_count": 110,
      "outputs": [
        {
          "output_type": "stream",
          "text": [
            "Epoch 1/50\n",
            "5/5 [==============================] - 4s 688ms/step - loss: 1.0337 - root_mean_squared_error: 0.9375 - val_loss: 113.1955 - val_root_mean_squared_error: 10.6393\n",
            "Epoch 2/50\n",
            "5/5 [==============================] - 3s 668ms/step - loss: 0.8341 - root_mean_squared_error: 0.8997 - val_loss: 102.8729 - val_root_mean_squared_error: 10.1426\n",
            "Epoch 3/50\n",
            "5/5 [==============================] - 3s 673ms/step - loss: 0.5187 - root_mean_squared_error: 0.7088 - val_loss: 109.8379 - val_root_mean_squared_error: 10.4804\n",
            "Epoch 4/50\n",
            "5/5 [==============================] - 3s 679ms/step - loss: 0.3801 - root_mean_squared_error: 0.6115 - val_loss: 104.5104 - val_root_mean_squared_error: 10.2230\n",
            "Epoch 5/50\n",
            "5/5 [==============================] - 3s 694ms/step - loss: 0.2092 - root_mean_squared_error: 0.4563 - val_loss: 106.8748 - val_root_mean_squared_error: 10.3380\n",
            "Epoch 6/50\n",
            "5/5 [==============================] - 3s 695ms/step - loss: 0.0978 - root_mean_squared_error: 0.3064 - val_loss: 106.2087 - val_root_mean_squared_error: 10.3058\n",
            "Epoch 7/50\n",
            "5/5 [==============================] - 3s 705ms/step - loss: 0.0556 - root_mean_squared_error: 0.2347 - val_loss: 105.7356 - val_root_mean_squared_error: 10.2828\n",
            "Epoch 8/50\n",
            "5/5 [==============================] - 3s 711ms/step - loss: 0.0459 - root_mean_squared_error: 0.2133 - val_loss: 106.7602 - val_root_mean_squared_error: 10.3325\n",
            "Epoch 9/50\n",
            "5/5 [==============================] - 3s 724ms/step - loss: 0.0323 - root_mean_squared_error: 0.1796 - val_loss: 105.5910 - val_root_mean_squared_error: 10.2757\n",
            "Epoch 10/50\n",
            "5/5 [==============================] - 3s 724ms/step - loss: 0.0325 - root_mean_squared_error: 0.1794 - val_loss: 106.6556 - val_root_mean_squared_error: 10.3274\n",
            "Epoch 11/50\n",
            "5/5 [==============================] - 3s 722ms/step - loss: 0.0222 - root_mean_squared_error: 0.1484 - val_loss: 105.7951 - val_root_mean_squared_error: 10.2857\n",
            "Epoch 12/50\n",
            "5/5 [==============================] - 3s 716ms/step - loss: 0.0190 - root_mean_squared_error: 0.1370 - val_loss: 106.4473 - val_root_mean_squared_error: 10.3173\n",
            "Epoch 13/50\n",
            "5/5 [==============================] - 3s 706ms/step - loss: 0.0136 - root_mean_squared_error: 0.1154 - val_loss: 105.9861 - val_root_mean_squared_error: 10.2950\n",
            "Epoch 14/50\n",
            "5/5 [==============================] - 3s 700ms/step - loss: 0.0198 - root_mean_squared_error: 0.1404 - val_loss: 106.2603 - val_root_mean_squared_error: 10.3083\n",
            "Epoch 15/50\n",
            "5/5 [==============================] - 3s 695ms/step - loss: 0.0139 - root_mean_squared_error: 0.1153 - val_loss: 106.1663 - val_root_mean_squared_error: 10.3037\n",
            "Epoch 16/50\n",
            "5/5 [==============================] - 3s 695ms/step - loss: 0.0153 - root_mean_squared_error: 0.1231 - val_loss: 106.2150 - val_root_mean_squared_error: 10.3061\n",
            "Epoch 17/50\n",
            "5/5 [==============================] - 3s 687ms/step - loss: 0.0122 - root_mean_squared_error: 0.1083 - val_loss: 106.1545 - val_root_mean_squared_error: 10.3031\n",
            "Epoch 18/50\n",
            "5/5 [==============================] - 3s 678ms/step - loss: 0.0120 - root_mean_squared_error: 0.1055 - val_loss: 106.1954 - val_root_mean_squared_error: 10.3051\n",
            "Epoch 19/50\n",
            "5/5 [==============================] - 3s 682ms/step - loss: 0.0118 - root_mean_squared_error: 0.1063 - val_loss: 106.1758 - val_root_mean_squared_error: 10.3042\n",
            "Epoch 20/50\n",
            "5/5 [==============================] - 3s 680ms/step - loss: 0.0177 - root_mean_squared_error: 0.1316 - val_loss: 106.1324 - val_root_mean_squared_error: 10.3021\n",
            "Epoch 21/50\n",
            "5/5 [==============================] - 3s 674ms/step - loss: 0.0141 - root_mean_squared_error: 0.1185 - val_loss: 106.1817 - val_root_mean_squared_error: 10.3044\n",
            "Epoch 22/50\n",
            "5/5 [==============================] - 3s 675ms/step - loss: 0.0166 - root_mean_squared_error: 0.1284 - val_loss: 106.1177 - val_root_mean_squared_error: 10.3013\n",
            "Epoch 23/50\n",
            "5/5 [==============================] - 3s 669ms/step - loss: 0.0150 - root_mean_squared_error: 0.1216 - val_loss: 106.1976 - val_root_mean_squared_error: 10.3052\n",
            "Epoch 24/50\n",
            "5/5 [==============================] - 3s 675ms/step - loss: 0.0098 - root_mean_squared_error: 0.0961 - val_loss: 106.0823 - val_root_mean_squared_error: 10.2996\n",
            "Epoch 25/50\n",
            "5/5 [==============================] - 3s 675ms/step - loss: 0.0154 - root_mean_squared_error: 0.1237 - val_loss: 106.2415 - val_root_mean_squared_error: 10.3074\n",
            "Epoch 26/50\n",
            "5/5 [==============================] - 3s 676ms/step - loss: 0.0120 - root_mean_squared_error: 0.1092 - val_loss: 106.1048 - val_root_mean_squared_error: 10.3007\n",
            "Epoch 27/50\n",
            "5/5 [==============================] - 3s 676ms/step - loss: 0.0137 - root_mean_squared_error: 0.1167 - val_loss: 105.9963 - val_root_mean_squared_error: 10.2955\n",
            "Epoch 28/50\n",
            "5/5 [==============================] - 3s 678ms/step - loss: 0.0103 - root_mean_squared_error: 0.0985 - val_loss: 106.2450 - val_root_mean_squared_error: 10.3075\n",
            "Epoch 29/50\n",
            "5/5 [==============================] - 3s 683ms/step - loss: 0.0174 - root_mean_squared_error: 0.1304 - val_loss: 106.2735 - val_root_mean_squared_error: 10.3089\n",
            "Epoch 30/50\n",
            "5/5 [==============================] - 3s 688ms/step - loss: 0.0069 - root_mean_squared_error: 0.0776 - val_loss: 105.9928 - val_root_mean_squared_error: 10.2953\n",
            "Epoch 31/50\n",
            "5/5 [==============================] - 3s 686ms/step - loss: 0.0091 - root_mean_squared_error: 0.0927 - val_loss: 106.2676 - val_root_mean_squared_error: 10.3086\n",
            "Epoch 32/50\n",
            "5/5 [==============================] - 3s 698ms/step - loss: 0.0139 - root_mean_squared_error: 0.1173 - val_loss: 105.9192 - val_root_mean_squared_error: 10.2917\n",
            "Epoch 33/50\n",
            "5/5 [==============================] - 3s 696ms/step - loss: 0.0172 - root_mean_squared_error: 0.1301 - val_loss: 106.1818 - val_root_mean_squared_error: 10.3045\n",
            "Epoch 34/50\n",
            "5/5 [==============================] - 3s 695ms/step - loss: 0.0100 - root_mean_squared_error: 0.0993 - val_loss: 106.2251 - val_root_mean_squared_error: 10.3066\n",
            "Epoch 35/50\n",
            "5/5 [==============================] - 3s 697ms/step - loss: 0.0163 - root_mean_squared_error: 0.1271 - val_loss: 105.9608 - val_root_mean_squared_error: 10.2937\n",
            "Epoch 36/50\n",
            "5/5 [==============================] - 3s 694ms/step - loss: 0.0139 - root_mean_squared_error: 0.1173 - val_loss: 106.0696 - val_root_mean_squared_error: 10.2990\n",
            "Epoch 37/50\n",
            "5/5 [==============================] - 3s 696ms/step - loss: 0.0134 - root_mean_squared_error: 0.1150 - val_loss: 106.2910 - val_root_mean_squared_error: 10.3098\n",
            "Epoch 38/50\n",
            "5/5 [==============================] - 3s 697ms/step - loss: 0.0148 - root_mean_squared_error: 0.1196 - val_loss: 106.0614 - val_root_mean_squared_error: 10.2986\n",
            "Epoch 39/50\n",
            "5/5 [==============================] - 3s 699ms/step - loss: 0.0107 - root_mean_squared_error: 0.0963 - val_loss: 105.9441 - val_root_mean_squared_error: 10.2929\n",
            "Epoch 40/50\n",
            "5/5 [==============================] - 3s 690ms/step - loss: 0.0113 - root_mean_squared_error: 0.1027 - val_loss: 106.1626 - val_root_mean_squared_error: 10.3035\n",
            "Epoch 41/50\n",
            "5/5 [==============================] - 3s 691ms/step - loss: 0.0078 - root_mean_squared_error: 0.0840 - val_loss: 106.1507 - val_root_mean_squared_error: 10.3029\n",
            "Epoch 42/50\n",
            "5/5 [==============================] - 3s 724ms/step - loss: 0.0138 - root_mean_squared_error: 0.1167 - val_loss: 106.0538 - val_root_mean_squared_error: 10.2982\n",
            "Epoch 43/50\n",
            "5/5 [==============================] - 3s 692ms/step - loss: 0.0077 - root_mean_squared_error: 0.0863 - val_loss: 106.0959 - val_root_mean_squared_error: 10.3003\n",
            "Epoch 44/50\n",
            "5/5 [==============================] - 3s 686ms/step - loss: 0.0048 - root_mean_squared_error: 0.0609 - val_loss: 106.2014 - val_root_mean_squared_error: 10.3054\n",
            "Epoch 45/50\n",
            "5/5 [==============================] - 3s 684ms/step - loss: 0.0097 - root_mean_squared_error: 0.0934 - val_loss: 106.1357 - val_root_mean_squared_error: 10.3022\n",
            "Epoch 46/50\n",
            "5/5 [==============================] - 3s 680ms/step - loss: 0.0058 - root_mean_squared_error: 0.0678 - val_loss: 105.9677 - val_root_mean_squared_error: 10.2941\n",
            "Epoch 47/50\n",
            "5/5 [==============================] - 3s 681ms/step - loss: 0.0068 - root_mean_squared_error: 0.0788 - val_loss: 106.1896 - val_root_mean_squared_error: 10.3048\n",
            "Epoch 48/50\n",
            "5/5 [==============================] - 3s 678ms/step - loss: 0.0222 - root_mean_squared_error: 0.1423 - val_loss: 106.1372 - val_root_mean_squared_error: 10.3023\n",
            "Epoch 49/50\n",
            "5/5 [==============================] - 3s 682ms/step - loss: 0.0197 - root_mean_squared_error: 0.1369 - val_loss: 106.0005 - val_root_mean_squared_error: 10.2957\n",
            "Epoch 50/50\n",
            "5/5 [==============================] - 3s 677ms/step - loss: 0.0082 - root_mean_squared_error: 0.0886 - val_loss: 105.9522 - val_root_mean_squared_error: 10.2933\n"
          ],
          "name": "stdout"
        }
      ]
    },
    {
      "cell_type": "markdown",
      "metadata": {
        "id": "ll9j4C7UEfac"
      },
      "source": [
        "## Evaluation"
      ]
    },
    {
      "cell_type": "code",
      "metadata": {
        "colab": {
          "base_uri": "https://localhost:8080/"
        },
        "id": "pJNVG-XmEXK2",
        "outputId": "9abed7ab-0a82-4e97-8951-905fcbbc05db"
      },
      "source": [
        "# Evaluate the model on the test data using `evaluate`\r\n",
        "print(\"Evaluate on validation data\")\r\n",
        "results = model.evaluate(X_valid, y_valid, batch_size=128)\r\n",
        "print(\"test loss, test accuracy:\", results)\r\n"
      ],
      "execution_count": 113,
      "outputs": [
        {
          "output_type": "stream",
          "text": [
            "Evaluate on validation data\n",
            "2/2 [==============================] - 1s 128ms/step - loss: 105.9522 - root_mean_squared_error: 10.2933\n",
            "test loss, test accuracy: [105.95222473144531, 10.293310165405273]\n"
          ],
          "name": "stdout"
        }
      ]
    },
    {
      "cell_type": "code",
      "metadata": {
        "colab": {
          "base_uri": "https://localhost:8080/"
        },
        "id": "XZCj-Ev4Ol_g",
        "outputId": "d1ce2939-ec40-4dac-e32c-843cb1e46fa4"
      },
      "source": [
        "# Generate predictions (probabilities -- the output of the last layer)\r\n",
        "# on new data using `predict`\r\n",
        "print(\"Generate predictions\")\r\n",
        "y_pred = model.predict(X_valid)\r\n",
        "print(\"predictions shape:\", y_pred.shape)"
      ],
      "execution_count": 114,
      "outputs": [
        {
          "output_type": "stream",
          "text": [
            "Generate predictions\n",
            "predictions shape: (160, 1)\n"
          ],
          "name": "stdout"
        }
      ]
    },
    {
      "cell_type": "code",
      "metadata": {
        "colab": {
          "base_uri": "https://localhost:8080/"
        },
        "id": "sNbY9uUBTv56",
        "outputId": "575042dc-78b6-4f8a-98cc-d3c40f8dc3a5"
      },
      "source": [
        " from sklearn.metrics import explained_variance_score\r\n",
        " explained_variance_score(y_valid, y_pred, multioutput='raw_values')"
      ],
      "execution_count": 115,
      "outputs": [
        {
          "output_type": "execute_result",
          "data": {
            "text/plain": [
              "array([0.3041266])"
            ]
          },
          "metadata": {
            "tags": []
          },
          "execution_count": 115
        }
      ]
    },
    {
      "cell_type": "code",
      "metadata": {
        "colab": {
          "base_uri": "https://localhost:8080/"
        },
        "id": "pZ37BpBiW-Wf",
        "outputId": "54320567-45e5-4130-fbf7-dd0d499a5ccd"
      },
      "source": [
        "from sklearn.metrics import max_error\r\n",
        "max_error(y_valid, y_pred)"
      ],
      "execution_count": 116,
      "outputs": [
        {
          "output_type": "execute_result",
          "data": {
            "text/plain": [
              "27.855321884155273"
            ]
          },
          "metadata": {
            "tags": []
          },
          "execution_count": 116
        }
      ]
    },
    {
      "cell_type": "code",
      "metadata": {
        "colab": {
          "base_uri": "https://localhost:8080/"
        },
        "id": "viTxTXhZXIzP",
        "outputId": "fac2bfaa-9f4d-41c0-830c-e564506c483d"
      },
      "source": [
        "from sklearn.metrics import mean_squared_error\r\n",
        "mean_squared_error(y_valid, y_pred)"
      ],
      "execution_count": 117,
      "outputs": [
        {
          "output_type": "execute_result",
          "data": {
            "text/plain": [
              "105.95225815770046"
            ]
          },
          "metadata": {
            "tags": []
          },
          "execution_count": 117
        }
      ]
    },
    {
      "cell_type": "code",
      "metadata": {
        "colab": {
          "base_uri": "https://localhost:8080/"
        },
        "id": "Oux3UG59XY8x",
        "outputId": "958724de-1733-4680-ab1c-25c2c45075c5"
      },
      "source": [
        "from sklearn.metrics import mean_squared_log_error\r\n",
        "mean_squared_log_error(y_valid, y_pred)"
      ],
      "execution_count": 118,
      "outputs": [
        {
          "output_type": "execute_result",
          "data": {
            "text/plain": [
              "0.13228484392232295"
            ]
          },
          "metadata": {
            "tags": []
          },
          "execution_count": 118
        }
      ]
    },
    {
      "cell_type": "code",
      "metadata": {
        "colab": {
          "base_uri": "https://localhost:8080/"
        },
        "id": "CnDyEPwkXg91",
        "outputId": "bf5067d2-df13-4568-92a1-ff67161c92f4"
      },
      "source": [
        "from sklearn.metrics import r2_score\r\n",
        "r2_score(y_valid, y_pred)"
      ],
      "execution_count": 120,
      "outputs": [
        {
          "output_type": "execute_result",
          "data": {
            "text/plain": [
              "0.2663467184307601"
            ]
          },
          "metadata": {
            "tags": []
          },
          "execution_count": 120
        }
      ]
    },
    {
      "cell_type": "code",
      "metadata": {
        "colab": {
          "base_uri": "https://localhost:8080/"
        },
        "id": "eMI3csXyYAbn",
        "outputId": "cbe61fef-c432-42fc-f7d4-c430b9fc82cb"
      },
      "source": [
        "from math import sqrt\r\n",
        "rmse = sqrt(mean_squared_error(y_valid, y_pred))\r\n",
        "print('Test RMSE: %.3f' % rmse)\r\n"
      ],
      "execution_count": 121,
      "outputs": [
        {
          "output_type": "stream",
          "text": [
            "Test RMSE: 10.293\n"
          ],
          "name": "stdout"
        }
      ]
    },
    {
      "cell_type": "code",
      "metadata": {
        "id": "eLkSk0-dASzd"
      },
      "source": [
        "model.save('/home/hemlata/AML_maskdetection/vgg16_agenet.h5')"
      ],
      "execution_count": 125,
      "outputs": []
    },
    {
      "cell_type": "code",
      "metadata": {
        "colab": {
          "base_uri": "https://localhost:8080/",
          "height": 404
        },
        "id": "FVRHVHI_cSje",
        "outputId": "55a71726-4077-4ccc-fe62-a3505113ace6"
      },
      "source": [
        "N = 50\r\n",
        "#plt.style.use(\"ggplot\")\r\n",
        "plt.figure(figsize=(8,6))\r\n",
        "plt.plot(np.arange(0, N), history.history[\"loss\"], label=\"train_loss\")\r\n",
        "plt.plot(np.arange(0, N), history.history[\"val_loss\"], label=\"val_loss\")\r\n",
        "plt.plot(np.arange(0, N), history.history[\"root_mean_squared_error\"], label=\"train_acc\")\r\n",
        "plt.plot(np.arange(0, N), history.history[\"val_root_mean_squared_error\"], label=\"val_acc\")\r\n",
        "plt.title(\"Training Loss and Accuracy on Age Dataset\")\r\n",
        "plt.xlabel(\"Epoch #\")\r\n",
        "plt.ylabel(\"Loss/Accuracy\")\r\n",
        "plt.legend(loc=\"lower left\")\r\n",
        "plt.show()"
      ],
      "execution_count": 124,
      "outputs": [
        {
          "output_type": "display_data",
          "data": {
            "image/png": "[encoded data removed]",
            "text/plain": [
              "<Figure size 576x432 with 1 Axes>"
            ]
          },
          "metadata": {
            "tags": [],
            "needs_background": "light"
          }
        }
      ]
    }
  ]
}