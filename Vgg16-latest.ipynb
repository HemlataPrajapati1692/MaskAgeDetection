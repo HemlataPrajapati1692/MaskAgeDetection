{
  "nbformat": 4,
  "nbformat_minor": 0,
  "metadata": {
    "kernelspec": {
      "display_name": "Python 3",
      "language": "python",
      "name": "python3"
    },
    "language_info": {
      "codemirror_mode": {
        "name": "ipython",
        "version": 3
      },
      "file_extension": ".py",
      "mimetype": "text/x-python",
      "name": "python",
      "nbconvert_exporter": "python",
      "pygments_lexer": "ipython3",
      "version": "3.6.9"
    },
    "colab": {
      "name": "VGG_agenet.ipynb",
      "provenance": [],
      "collapsed_sections": []
    },
    "accelerator": "GPU"
  },
  "cells": [
    {
      "cell_type": "code",
      "metadata": {
        "id": "wXFvRg_4ASzQ"
      },
      "source": [
        "#import all the libraries\n",
        "%reload_ext autoreload\n",
        "%autoreload 2\n",
        "import os\n",
        "os.environ[\"CUDA_DEVICE_ORDER\"]=\"PCI_BUS_ID\";\n",
        "os.environ[\"CUDA_VISIBLE_DEVICES\"]=\"0\" \n",
        "import tensorflow as tf\n",
        "from tensorflow.keras import Sequential,Model,models\n",
        "from tensorflow.keras.layers import Dense,Dropout,Flatten,BatchNormalization\n",
        "from tensorflow.keras.layers import Input, Lambda, Dense, Flatten, Dropout, AveragePooling2D\n",
        "from tensorflow.keras.applications.vgg16 import VGG16\n",
        "from tensorflow.keras.preprocessing import image\n",
        "from tensorflow.keras.applications.vgg16 import preprocess_input\n",
        "import numpy as np\n",
        "import pandas as pd\n",
        "import matplotlib.pyplot as plt\n",
        "from tensorflow.keras.preprocessing import image\n",
        "from keras.preprocessing.image import ImageDataGenerator\n",
        "import scipy\n",
        "import sklearn"
      ],
      "execution_count": 10,
      "outputs": []
    },
    {
      "cell_type": "code",
      "metadata": {
        "id": "qMimBplvce3o"
      },
      "source": [
        "#attain local reproducibility by setting random seed =42\r\n",
        "RSEED = 42\r\n",
        "import os\r\n",
        "os.environ['PYTHONHASHSEED']=str(RSEED)\r\n",
        "# os.environ['TF_CUDNN_DETERMINISTIC'] = '1'  # TF 2.1\r\n",
        "import random\r\n",
        "random.seed(RSEED)\r\n",
        "from numpy.random import seed\r\n",
        "seed(RSEED)\r\n",
        "from tensorflow import random as tfrand\r\n",
        "tfrand.set_seed(RSEED)"
      ],
      "execution_count": 11,
      "outputs": []
    },
    {
      "cell_type": "code",
      "metadata": {
        "colab": {
          "base_uri": "https://localhost:8080/"
        },
        "id": "3RstSWW_Aahu",
        "outputId": "e71d8de0-7e45-427c-cb52-14a73d0cbc9c"
      },
      "source": [
        "from google.colab import drive\n",
        "drive.mount('/content/drive')"
      ],
      "execution_count": 12,
      "outputs": [
        {
          "output_type": "stream",
          "text": [
            "Drive already mounted at /content/drive; to attempt to forcibly remount, call drive.mount(\"/content/drive\", force_remount=True).\n"
          ],
          "name": "stdout"
        }
      ]
    },
    {
      "cell_type": "code",
      "metadata": {
        "colab": {
          "base_uri": "https://localhost:8080/"
        },
        "id": "9vw2NJrKdhBg",
        "outputId": "73e9419f-b49c-492d-b28c-42ee41715a78"
      },
      "source": [
        "import os\r\n",
        "len(os.listdir('/content/drive/MyDrive/dataset/age_Images'))"
      ],
      "execution_count": 4,
      "outputs": [
        {
          "output_type": "execute_result",
          "data": {
            "text/plain": [
              "1050"
            ]
          },
          "metadata": {
            "tags": []
          },
          "execution_count": 4
        }
      ]
    },
    {
      "cell_type": "code",
      "metadata": {
        "colab": {
          "base_uri": "https://localhost:8080/"
        },
        "id": "kruYKzmSASzY",
        "outputId": "41e80f21-c363-4b2b-8f87-b8691b65f254"
      },
      "source": [
        "gpus = tf.config.list_physical_devices('GPU')\n",
        "for gpu in gpus:\n",
        "    print(f'Found {gpu} - allowing memory growth')\n",
        "    tf.config.experimental.set_memory_growth(gpu, True)\n",
        "cpus = tf.config.list_physical_devices('CPU')\n",
        "for cpu in cpus:\n",
        "    print(f'Found {cpu}')"
      ],
      "execution_count": 5,
      "outputs": [
        {
          "output_type": "stream",
          "text": [
            "Found PhysicalDevice(name='/physical_device:GPU:0', device_type='GPU') - allowing memory growth\n",
            "Found PhysicalDevice(name='/physical_device:CPU:0', device_type='CPU')\n"
          ],
          "name": "stdout"
        }
      ]
    },
    {
      "cell_type": "code",
      "metadata": {
        "colab": {
          "base_uri": "https://localhost:8080/"
        },
        "id": "Z7fMNntrASza",
        "outputId": "806e0771-a002-46ab-97d2-0909a920df20"
      },
      "source": [
        "print(\"Num GPUs Available: \", len(tf.config.experimental.list_physical_devices('GPU')))"
      ],
      "execution_count": 6,
      "outputs": [
        {
          "output_type": "stream",
          "text": [
            "Num GPUs Available:  1\n"
          ],
          "name": "stdout"
        }
      ]
    },
    {
      "cell_type": "code",
      "metadata": {
        "id": "8Qbx45ofASzb"
      },
      "source": [
        "folder_path = \"/content/drive/MyDrive/dataset/age_Images\"\n",
        "img_width=224\n",
        "img_height=224\n",
        "\n"
      ],
      "execution_count": 14,
      "outputs": []
    },
    {
      "cell_type": "code",
      "metadata": {
        "id": "w9PnSWBMbmkE"
      },
      "source": [
        "images = []\r\n",
        "labels =[]\r\n",
        "image_list = os.listdir(folder_path)\r\n",
        "\r\n",
        "for i in range(len(image_list)):\r\n",
        "    img = os.path.join(folder_path, image_list[i])\r\n",
        "    img = image.load_img(img, target_size=(img_width,img_height))\r\n",
        "    img = image.img_to_array(img)\r\n",
        "    img = img/255.0\r\n",
        "    images.append(img)\r\n",
        "    labels.append(image_list[i].split(\"_\",1)[0])\r\n",
        "\r\n",
        "images=np.array(images,dtype=np.float)\r\n",
        "labels=np.array(labels,dtype=np.int)"
      ],
      "execution_count": 16,
      "outputs": []
    },
    {
      "cell_type": "code",
      "metadata": {
        "id": "JF6RxG7CASzb"
      },
      "source": [
        "from sklearn.model_selection import train_test_split\n",
        "X_train, X_valid, y_train, y_valid = train_test_split(images,labels, test_size=0.20, random_state=42)"
      ],
      "execution_count": 17,
      "outputs": []
    },
    {
      "cell_type": "code",
      "metadata": {
        "id": "7Y11mRewh5Mw"
      },
      "source": [
        "# constructing the image generator for data augmentation\r\n",
        "aug = ImageDataGenerator(\r\n",
        "\trotation_range=20,\r\n",
        "\tzoom_range=0.15,\r\n",
        "\twidth_shift_range=0.2,\r\n",
        "\theight_shift_range=0.2,\r\n",
        "\tshear_range=0.15,\r\n",
        "\thorizontal_flip=True,\r\n",
        "\tfill_mode=\"nearest\")"
      ],
      "execution_count": 19,
      "outputs": []
    },
    {
      "cell_type": "code",
      "metadata": {
        "id": "OLyay2SbASzc",
        "colab": {
          "base_uri": "https://localhost:8080/"
        },
        "outputId": "5c25f04b-1590-4e61-998f-3285a9efd2f4"
      },
      "source": [
        "#load the vgg16 network, ensuring the head FC layer sets are left off\n",
        "baseModel= tf.keras.applications.VGG16(\n",
        "    input_shape=(img_width,img_height,3), include_top=False, weights='imagenet')"
      ],
      "execution_count": 20,
      "outputs": [
        {
          "output_type": "stream",
          "text": [
            "Downloading data from https://storage.googleapis.com/tensorflow/keras-applications/vgg16/vgg16_weights_tf_dim_ordering_tf_kernels_notop.h5\n",
            "58892288/58889256 [==============================] - 1s 0us/step\n"
          ],
          "name": "stdout"
        }
      ]
    },
    {
      "cell_type": "code",
      "metadata": {
        "id": "wSbk4kIhiZQa"
      },
      "source": [
        "# construct the head of the model that will be placed on top of the\r\n",
        "# the base model\r\n",
        "headModel = baseModel.output\r\n",
        "headModel = AveragePooling2D(pool_size=(3, 3))(headModel)\r\n",
        "headModel = Flatten(name=\"flatten\")(headModel)\r\n",
        "headModel = Dense(128, activation=\"relu\")(headModel)\r\n",
        "headModel = Dropout(0.5)(headModel)\r\n",
        "headModel = Dense(64, activation=\"relu\")(headModel)\r\n",
        "headModel = Dropout(0.5)(headModel)\r\n",
        "headModel = Dense(1, activation=\"linear\")(headModel)"
      ],
      "execution_count": 28,
      "outputs": []
    },
    {
      "cell_type": "code",
      "metadata": {
        "id": "-mZQ8BrtjA8T"
      },
      "source": [
        "# place the head FC model on top of the base model (this will become\r\n",
        "# the actual model we will train)\r\n",
        "model = Model(inputs=baseModel.input, outputs=headModel)"
      ],
      "execution_count": 29,
      "outputs": []
    },
    {
      "cell_type": "code",
      "metadata": {
        "id": "ByIT-8e9ASzc"
      },
      "source": [
        "# loop over all layers in the base model and freeze them so they will\n",
        "# *not* be updated during the first training process\n",
        "for layer in baseModel.layers:\n",
        "\tlayer.trainable = False"
      ],
      "execution_count": 30,
      "outputs": []
    },
    {
      "cell_type": "code",
      "metadata": {
        "id": "MYfkbayHASzc"
      },
      "source": [
        "# x = VGG16.output\n",
        "# # let's add a fully-connected layer\n",
        "# x = Flatten()(x)\n",
        "# x = Dense(32, activation='relu')(x)\n",
        "# predictions = Dense(1, activation='linear')(x)\n",
        "\n",
        "# # this is the model we will train\n",
        "# model = Model(inputs=VGG16.input, outputs=predictions)"
      ],
      "execution_count": null,
      "outputs": []
    },
    {
      "cell_type": "code",
      "metadata": {
        "colab": {
          "base_uri": "https://localhost:8080/"
        },
        "id": "tRIZDsEYASzc",
        "outputId": "ccbff35f-f804-4eb3-b7bc-e5ce94a1c1c6"
      },
      "source": [
        "model.summary()"
      ],
      "execution_count": 25,
      "outputs": [
        {
          "output_type": "stream",
          "text": [
            "Model: \"model\"\n",
            "_________________________________________________________________\n",
            "Layer (type)                 Output Shape              Param #   \n",
            "=================================================================\n",
            "input_1 (InputLayer)         [(None, 224, 224, 3)]     0         \n",
            "_________________________________________________________________\n",
            "block1_conv1 (Conv2D)        (None, 224, 224, 64)      1792      \n",
            "_________________________________________________________________\n",
            "block1_conv2 (Conv2D)        (None, 224, 224, 64)      36928     \n",
            "_________________________________________________________________\n",
            "block1_pool (MaxPooling2D)   (None, 112, 112, 64)      0         \n",
            "_________________________________________________________________\n",
            "block2_conv1 (Conv2D)        (None, 112, 112, 128)     73856     \n",
            "_________________________________________________________________\n",
            "block2_conv2 (Conv2D)        (None, 112, 112, 128)     147584    \n",
            "_________________________________________________________________\n",
            "block2_pool (MaxPooling2D)   (None, 56, 56, 128)       0         \n",
            "_________________________________________________________________\n",
            "block3_conv1 (Conv2D)        (None, 56, 56, 256)       295168    \n",
            "_________________________________________________________________\n",
            "block3_conv2 (Conv2D)        (None, 56, 56, 256)       590080    \n",
            "_________________________________________________________________\n",
            "block3_conv3 (Conv2D)        (None, 56, 56, 256)       590080    \n",
            "_________________________________________________________________\n",
            "block3_pool (MaxPooling2D)   (None, 28, 28, 256)       0         \n",
            "_________________________________________________________________\n",
            "block4_conv1 (Conv2D)        (None, 28, 28, 512)       1180160   \n",
            "_________________________________________________________________\n",
            "block4_conv2 (Conv2D)        (None, 28, 28, 512)       2359808   \n",
            "_________________________________________________________________\n",
            "block4_conv3 (Conv2D)        (None, 28, 28, 512)       2359808   \n",
            "_________________________________________________________________\n",
            "block4_pool (MaxPooling2D)   (None, 14, 14, 512)       0         \n",
            "_________________________________________________________________\n",
            "block5_conv1 (Conv2D)        (None, 14, 14, 512)       2359808   \n",
            "_________________________________________________________________\n",
            "block5_conv2 (Conv2D)        (None, 14, 14, 512)       2359808   \n",
            "_________________________________________________________________\n",
            "block5_conv3 (Conv2D)        (None, 14, 14, 512)       2359808   \n",
            "_________________________________________________________________\n",
            "block5_pool (MaxPooling2D)   (None, 7, 7, 512)         0         \n",
            "_________________________________________________________________\n",
            "average_pooling2d_1 (Average (None, 3, 3, 512)         0         \n",
            "_________________________________________________________________\n",
            "flatten (Flatten)            (None, 4608)              0         \n",
            "_________________________________________________________________\n",
            "dense_2 (Dense)              (None, 128)               589952    \n",
            "_________________________________________________________________\n",
            "dropout_1 (Dropout)          (None, 128)               0         \n",
            "_________________________________________________________________\n",
            "dense_3 (Dense)              (None, 1)                 129       \n",
            "=================================================================\n",
            "Total params: 15,304,769\n",
            "Trainable params: 590,081\n",
            "Non-trainable params: 14,714,688\n",
            "_________________________________________________________________\n"
          ],
          "name": "stdout"
        }
      ]
    },
    {
      "cell_type": "code",
      "metadata": {
        "id": "a9_L_w-xASzc",
        "colab": {
          "base_uri": "https://localhost:8080/"
        },
        "outputId": "da903e5d-47de-4a02-9566-48e1a6463c79"
      },
      "source": [
        "INIT_LR = 1e-4\n",
        "EPOCHS = 50\n",
        "BS = 32\n",
        "# compile our model\n",
        "print(\"[INFO] compiling model...\")\n",
        "from tensorflow.keras.optimizers import Adam\n",
        "opt = Adam(lr=INIT_LR, decay=INIT_LR / EPOCHS)\n",
        "model.compile(loss=\"mse\", optimizer=opt,\n",
        "\tmetrics=[tf.keras.metrics.RootMeanSquaredError(),tf.keras.metrics.MeanAbsoluteError()])\n",
        "\n",
        "# model.compile(\n",
        "#     optimizer='adam',\n",
        "#     loss='mse',\n",
        "#     metrics=[tf.keras.metrics.RootMeanSquaredError()])"
      ],
      "execution_count": 31,
      "outputs": [
        {
          "output_type": "stream",
          "text": [
            "[INFO] compiling model...\n"
          ],
          "name": "stdout"
        }
      ]
    },
    {
      "cell_type": "code",
      "metadata": {
        "colab": {
          "base_uri": "https://localhost:8080/"
        },
        "id": "YsVymRamjxQ7",
        "outputId": "a248d641-0f84-4c99-9e6c-ac6999ca6860"
      },
      "source": [
        "# train the head of the network\r\n",
        "print(\"[INFO] training head...\")\r\n",
        "H = model.fit(\r\n",
        "\taug.flow(X_train, y_train, batch_size=BS),\r\n",
        "\tsteps_per_epoch=len(X_train) // BS,\r\n",
        "\tvalidation_data=(X_valid, y_valid),\r\n",
        "\tvalidation_steps=len(X_valid) // BS,\r\n",
        "\tepochs=EPOCHS)\r\n",
        "\r\n",
        "# history=model.fit(X_train,y_train,batch_size=128,validation_data=(X_valid,y_valid),epochs=50)"
      ],
      "execution_count": 32,
      "outputs": [
        {
          "output_type": "stream",
          "text": [
            "[INFO] training head...\n",
            "Epoch 1/50\n",
            "26/26 [==============================] - 11s 379ms/step - loss: 926.8221 - root_mean_squared_error: 30.4402 - mean_absolute_error: 28.0686 - val_loss: 797.7032 - val_root_mean_squared_error: 28.2436 - val_mean_absolute_error: 25.7767\n",
            "Epoch 2/50\n",
            "26/26 [==============================] - 10s 369ms/step - loss: 737.0615 - root_mean_squared_error: 27.1399 - mean_absolute_error: 24.3351 - val_loss: 560.6500 - val_root_mean_squared_error: 23.6780 - val_mean_absolute_error: 20.6313\n",
            "Epoch 3/50\n",
            "26/26 [==============================] - 10s 373ms/step - loss: 524.8367 - root_mean_squared_error: 22.8999 - mean_absolute_error: 19.6367 - val_loss: 340.8318 - val_root_mean_squared_error: 18.4616 - val_mean_absolute_error: 15.2610\n",
            "Epoch 4/50\n",
            "26/26 [==============================] - 10s 382ms/step - loss: 346.7669 - root_mean_squared_error: 18.6041 - mean_absolute_error: 15.1050 - val_loss: 206.9599 - val_root_mean_squared_error: 14.3861 - val_mean_absolute_error: 11.8286\n",
            "Epoch 5/50\n",
            "26/26 [==============================] - 10s 372ms/step - loss: 251.7451 - root_mean_squared_error: 15.8632 - mean_absolute_error: 12.9036 - val_loss: 154.4901 - val_root_mean_squared_error: 12.4294 - val_mean_absolute_error: 10.4203\n",
            "Epoch 6/50\n",
            "26/26 [==============================] - 10s 371ms/step - loss: 227.1889 - root_mean_squared_error: 15.0637 - mean_absolute_error: 12.1982 - val_loss: 145.7715 - val_root_mean_squared_error: 12.0736 - val_mean_absolute_error: 10.2598\n",
            "Epoch 7/50\n",
            "26/26 [==============================] - 10s 374ms/step - loss: 210.4126 - root_mean_squared_error: 14.4985 - mean_absolute_error: 11.9184 - val_loss: 144.7928 - val_root_mean_squared_error: 12.0330 - val_mean_absolute_error: 10.2207\n",
            "Epoch 8/50\n",
            "26/26 [==============================] - 10s 373ms/step - loss: 198.6626 - root_mean_squared_error: 14.0861 - mean_absolute_error: 11.3271 - val_loss: 144.0138 - val_root_mean_squared_error: 12.0006 - val_mean_absolute_error: 10.1717\n",
            "Epoch 9/50\n",
            "26/26 [==============================] - 10s 375ms/step - loss: 198.3052 - root_mean_squared_error: 14.0793 - mean_absolute_error: 11.5505 - val_loss: 142.7582 - val_root_mean_squared_error: 11.9481 - val_mean_absolute_error: 10.1315\n",
            "Epoch 10/50\n",
            "26/26 [==============================] - 10s 378ms/step - loss: 207.9436 - root_mean_squared_error: 14.4184 - mean_absolute_error: 11.6392 - val_loss: 141.4725 - val_root_mean_squared_error: 11.8942 - val_mean_absolute_error: 10.1011\n",
            "Epoch 11/50\n",
            "26/26 [==============================] - 10s 376ms/step - loss: 201.3106 - root_mean_squared_error: 14.1845 - mean_absolute_error: 11.5720 - val_loss: 140.4391 - val_root_mean_squared_error: 11.8507 - val_mean_absolute_error: 10.0551\n",
            "Epoch 12/50\n",
            "26/26 [==============================] - 10s 372ms/step - loss: 223.3683 - root_mean_squared_error: 14.9428 - mean_absolute_error: 12.2372 - val_loss: 139.3058 - val_root_mean_squared_error: 11.8028 - val_mean_absolute_error: 10.0128\n",
            "Epoch 13/50\n",
            "26/26 [==============================] - 10s 371ms/step - loss: 200.4538 - root_mean_squared_error: 14.1568 - mean_absolute_error: 11.4877 - val_loss: 139.0289 - val_root_mean_squared_error: 11.7910 - val_mean_absolute_error: 9.9656\n",
            "Epoch 14/50\n",
            "26/26 [==============================] - 10s 371ms/step - loss: 213.0956 - root_mean_squared_error: 14.5942 - mean_absolute_error: 12.3117 - val_loss: 137.4337 - val_root_mean_squared_error: 11.7232 - val_mean_absolute_error: 9.9262\n",
            "Epoch 15/50\n",
            "26/26 [==============================] - 10s 373ms/step - loss: 209.8319 - root_mean_squared_error: 14.4798 - mean_absolute_error: 11.9630 - val_loss: 137.6557 - val_root_mean_squared_error: 11.7327 - val_mean_absolute_error: 9.8817\n",
            "Epoch 16/50\n",
            "26/26 [==============================] - 10s 374ms/step - loss: 209.6871 - root_mean_squared_error: 14.4723 - mean_absolute_error: 11.7015 - val_loss: 135.2336 - val_root_mean_squared_error: 11.6290 - val_mean_absolute_error: 9.8397\n",
            "Epoch 17/50\n",
            "26/26 [==============================] - 10s 371ms/step - loss: 213.0119 - root_mean_squared_error: 14.5857 - mean_absolute_error: 12.0675 - val_loss: 134.0947 - val_root_mean_squared_error: 11.5799 - val_mean_absolute_error: 9.7995\n",
            "Epoch 18/50\n",
            "26/26 [==============================] - 10s 373ms/step - loss: 191.6088 - root_mean_squared_error: 13.8413 - mean_absolute_error: 11.5739 - val_loss: 133.3499 - val_root_mean_squared_error: 11.5477 - val_mean_absolute_error: 9.7633\n",
            "Epoch 19/50\n",
            "26/26 [==============================] - 10s 373ms/step - loss: 184.2467 - root_mean_squared_error: 13.5690 - mean_absolute_error: 11.1415 - val_loss: 133.2907 - val_root_mean_squared_error: 11.5452 - val_mean_absolute_error: 9.7238\n",
            "Epoch 20/50\n",
            "26/26 [==============================] - 10s 374ms/step - loss: 203.0193 - root_mean_squared_error: 14.2439 - mean_absolute_error: 11.9322 - val_loss: 131.5513 - val_root_mean_squared_error: 11.4696 - val_mean_absolute_error: 9.6763\n",
            "Epoch 21/50\n",
            "26/26 [==============================] - 10s 370ms/step - loss: 201.1640 - root_mean_squared_error: 14.1785 - mean_absolute_error: 11.6717 - val_loss: 130.8858 - val_root_mean_squared_error: 11.4405 - val_mean_absolute_error: 9.6324\n",
            "Epoch 22/50\n",
            "26/26 [==============================] - 10s 372ms/step - loss: 187.7926 - root_mean_squared_error: 13.6976 - mean_absolute_error: 11.4002 - val_loss: 129.3045 - val_root_mean_squared_error: 11.3712 - val_mean_absolute_error: 9.5901\n",
            "Epoch 23/50\n",
            "26/26 [==============================] - 10s 373ms/step - loss: 208.8080 - root_mean_squared_error: 14.4471 - mean_absolute_error: 12.0116 - val_loss: 130.8489 - val_root_mean_squared_error: 11.4389 - val_mean_absolute_error: 9.5867\n",
            "Epoch 24/50\n",
            "26/26 [==============================] - 10s 373ms/step - loss: 203.3912 - root_mean_squared_error: 14.2453 - mean_absolute_error: 11.7047 - val_loss: 127.5969 - val_root_mean_squared_error: 11.2959 - val_mean_absolute_error: 9.5194\n",
            "Epoch 25/50\n",
            "26/26 [==============================] - 10s 372ms/step - loss: 182.9830 - root_mean_squared_error: 13.5231 - mean_absolute_error: 10.9996 - val_loss: 127.8418 - val_root_mean_squared_error: 11.3067 - val_mean_absolute_error: 9.4996\n",
            "Epoch 26/50\n",
            "26/26 [==============================] - 10s 371ms/step - loss: 179.2458 - root_mean_squared_error: 13.3874 - mean_absolute_error: 10.9500 - val_loss: 127.1405 - val_root_mean_squared_error: 11.2757 - val_mean_absolute_error: 9.4679\n",
            "Epoch 27/50\n",
            "26/26 [==============================] - 10s 375ms/step - loss: 187.8223 - root_mean_squared_error: 13.7026 - mean_absolute_error: 11.5237 - val_loss: 125.0511 - val_root_mean_squared_error: 11.1826 - val_mean_absolute_error: 9.4174\n",
            "Epoch 28/50\n",
            "26/26 [==============================] - 10s 376ms/step - loss: 202.8395 - root_mean_squared_error: 14.2403 - mean_absolute_error: 11.7051 - val_loss: 125.5970 - val_root_mean_squared_error: 11.2070 - val_mean_absolute_error: 9.4032\n",
            "Epoch 29/50\n",
            "26/26 [==============================] - 10s 374ms/step - loss: 166.7728 - root_mean_squared_error: 12.9089 - mean_absolute_error: 10.6001 - val_loss: 123.8682 - val_root_mean_squared_error: 11.1296 - val_mean_absolute_error: 9.3545\n",
            "Epoch 30/50\n",
            "26/26 [==============================] - 10s 373ms/step - loss: 172.7446 - root_mean_squared_error: 13.1389 - mean_absolute_error: 10.8866 - val_loss: 123.6855 - val_root_mean_squared_error: 11.1214 - val_mean_absolute_error: 9.3271\n",
            "Epoch 31/50\n",
            "26/26 [==============================] - 10s 373ms/step - loss: 172.2197 - root_mean_squared_error: 13.1136 - mean_absolute_error: 10.7953 - val_loss: 121.9036 - val_root_mean_squared_error: 11.0410 - val_mean_absolute_error: 9.2790\n",
            "Epoch 32/50\n",
            "26/26 [==============================] - 10s 374ms/step - loss: 180.0807 - root_mean_squared_error: 13.4164 - mean_absolute_error: 11.1006 - val_loss: 122.2407 - val_root_mean_squared_error: 11.0563 - val_mean_absolute_error: 9.2631\n",
            "Epoch 33/50\n",
            "26/26 [==============================] - 10s 373ms/step - loss: 168.8917 - root_mean_squared_error: 12.9929 - mean_absolute_error: 10.6811 - val_loss: 121.0546 - val_root_mean_squared_error: 11.0025 - val_mean_absolute_error: 9.2239\n",
            "Epoch 34/50\n",
            "26/26 [==============================] - 10s 375ms/step - loss: 165.6851 - root_mean_squared_error: 12.8597 - mean_absolute_error: 10.6410 - val_loss: 118.8202 - val_root_mean_squared_error: 10.9005 - val_mean_absolute_error: 9.1674\n",
            "Epoch 35/50\n",
            "26/26 [==============================] - 10s 381ms/step - loss: 165.5721 - root_mean_squared_error: 12.8618 - mean_absolute_error: 10.7061 - val_loss: 120.2408 - val_root_mean_squared_error: 10.9654 - val_mean_absolute_error: 9.1634\n",
            "Epoch 36/50\n",
            "26/26 [==============================] - 10s 378ms/step - loss: 164.1167 - root_mean_squared_error: 12.8030 - mean_absolute_error: 10.4807 - val_loss: 119.6048 - val_root_mean_squared_error: 10.9364 - val_mean_absolute_error: 9.1295\n",
            "Epoch 37/50\n",
            "26/26 [==============================] - 10s 373ms/step - loss: 173.9563 - root_mean_squared_error: 13.1875 - mean_absolute_error: 10.9197 - val_loss: 116.8126 - val_root_mean_squared_error: 10.8080 - val_mean_absolute_error: 9.0719\n",
            "Epoch 38/50\n",
            "26/26 [==============================] - 10s 371ms/step - loss: 165.5117 - root_mean_squared_error: 12.8633 - mean_absolute_error: 10.5907 - val_loss: 117.6634 - val_root_mean_squared_error: 10.8473 - val_mean_absolute_error: 9.0583\n",
            "Epoch 39/50\n",
            "26/26 [==============================] - 10s 374ms/step - loss: 166.7433 - root_mean_squared_error: 12.9083 - mean_absolute_error: 10.5550 - val_loss: 116.2345 - val_root_mean_squared_error: 10.7812 - val_mean_absolute_error: 9.0160\n",
            "Epoch 40/50\n",
            "26/26 [==============================] - 10s 372ms/step - loss: 179.0278 - root_mean_squared_error: 13.3781 - mean_absolute_error: 10.9778 - val_loss: 116.7343 - val_root_mean_squared_error: 10.8044 - val_mean_absolute_error: 8.9977\n",
            "Epoch 41/50\n",
            "26/26 [==============================] - 10s 373ms/step - loss: 167.9506 - root_mean_squared_error: 12.9552 - mean_absolute_error: 10.5319 - val_loss: 114.3221 - val_root_mean_squared_error: 10.6922 - val_mean_absolute_error: 8.9373\n",
            "Epoch 42/50\n",
            "26/26 [==============================] - 10s 387ms/step - loss: 160.4485 - root_mean_squared_error: 12.6644 - mean_absolute_error: 10.5076 - val_loss: 114.3539 - val_root_mean_squared_error: 10.6936 - val_mean_absolute_error: 8.9098\n",
            "Epoch 43/50\n",
            "26/26 [==============================] - 10s 377ms/step - loss: 173.9395 - root_mean_squared_error: 13.1793 - mean_absolute_error: 10.6089 - val_loss: 114.2793 - val_root_mean_squared_error: 10.6901 - val_mean_absolute_error: 8.8875\n",
            "Epoch 44/50\n",
            "26/26 [==============================] - 10s 376ms/step - loss: 192.2863 - root_mean_squared_error: 13.8554 - mean_absolute_error: 11.3675 - val_loss: 114.8653 - val_root_mean_squared_error: 10.7175 - val_mean_absolute_error: 8.8799\n",
            "Epoch 45/50\n",
            "26/26 [==============================] - 10s 375ms/step - loss: 172.5129 - root_mean_squared_error: 13.1082 - mean_absolute_error: 10.6127 - val_loss: 112.0773 - val_root_mean_squared_error: 10.5867 - val_mean_absolute_error: 8.8105\n",
            "Epoch 46/50\n",
            "26/26 [==============================] - 10s 374ms/step - loss: 154.5579 - root_mean_squared_error: 12.4163 - mean_absolute_error: 10.2317 - val_loss: 109.5998 - val_root_mean_squared_error: 10.4690 - val_mean_absolute_error: 8.7558\n",
            "Epoch 47/50\n",
            "26/26 [==============================] - 10s 377ms/step - loss: 167.8620 - root_mean_squared_error: 12.9389 - mean_absolute_error: 10.4156 - val_loss: 110.7605 - val_root_mean_squared_error: 10.5243 - val_mean_absolute_error: 8.7561\n",
            "Epoch 48/50\n",
            "26/26 [==============================] - 10s 374ms/step - loss: 151.9152 - root_mean_squared_error: 12.3205 - mean_absolute_error: 9.9258 - val_loss: 113.0164 - val_root_mean_squared_error: 10.6309 - val_mean_absolute_error: 8.7884\n",
            "Epoch 49/50\n",
            "26/26 [==============================] - 10s 373ms/step - loss: 164.3481 - root_mean_squared_error: 12.8177 - mean_absolute_error: 10.4367 - val_loss: 110.4599 - val_root_mean_squared_error: 10.5100 - val_mean_absolute_error: 8.7136\n",
            "Epoch 50/50\n",
            "26/26 [==============================] - 10s 373ms/step - loss: 170.3314 - root_mean_squared_error: 13.0467 - mean_absolute_error: 10.8227 - val_loss: 111.9381 - val_root_mean_squared_error: 10.5801 - val_mean_absolute_error: 8.7346\n"
          ],
          "name": "stdout"
        }
      ]
    },
    {
      "cell_type": "markdown",
      "metadata": {
        "id": "ll9j4C7UEfac"
      },
      "source": [
        "## Evaluation"
      ]
    },
    {
      "cell_type": "code",
      "metadata": {
        "colab": {
          "base_uri": "https://localhost:8080/"
        },
        "id": "pJNVG-XmEXK2",
        "outputId": "d45fdee6-3a9d-43fa-d116-5daff77368bb"
      },
      "source": [
        "# Evaluate the model on the test data using `evaluate`\r\n",
        "print(\"Evaluate on validation data\")\r\n",
        "results = model.evaluate(X_valid, y_valid, batch_size=32)\r\n",
        "print(\"test loss, test accuracy_rmse, test accuracy_mae:\", results)\r\n"
      ],
      "execution_count": null,
      "outputs": [
        {
          "output_type": "stream",
          "text": [
            "Evaluate on validation data\n",
            "7/7 [==============================] - 2s 265ms/step - loss: 123.9652 - root_mean_squared_error: 11.1340 - mean_absolute_error: 9.3790\n",
            "test loss, test accuracy_rmse, test accuracy_mae: [123.9651870727539, 11.133965492248535, 9.378997802734375]\n"
          ],
          "name": "stdout"
        }
      ]
    },
    {
      "cell_type": "code",
      "metadata": {
        "colab": {
          "base_uri": "https://localhost:8080/"
        },
        "id": "XZCj-Ev4Ol_g",
        "outputId": "80525486-38b4-404c-f498-661ac17af7f4"
      },
      "source": [
        "# Generate predictions (probabilities -- the output of the last layer)\r\n",
        "# on new data using `predict`\r\n",
        "print(\"Generate predictions\")\r\n",
        "y_pred = model.predict(X_valid)\r\n",
        "print(\"predictions shape:\", y_pred.shape)"
      ],
      "execution_count": null,
      "outputs": [
        {
          "output_type": "stream",
          "text": [
            "Generate predictions\n",
            "predictions shape: (210, 1)\n"
          ],
          "name": "stdout"
        }
      ]
    },
    {
      "cell_type": "code",
      "metadata": {
        "colab": {
          "base_uri": "https://localhost:8080/"
        },
        "id": "sNbY9uUBTv56",
        "outputId": "34b64dc2-6b3b-4654-cf95-59f7264559f9"
      },
      "source": [
        " from sklearn.metrics import explained_variance_score\r\n",
        " explained_variance_score(y_valid, y_pred, multioutput='raw_values')"
      ],
      "execution_count": null,
      "outputs": [
        {
          "output_type": "execute_result",
          "data": {
            "text/plain": [
              "array([0.07331223])"
            ]
          },
          "metadata": {
            "tags": []
          },
          "execution_count": 20
        }
      ]
    },
    {
      "cell_type": "code",
      "metadata": {
        "colab": {
          "base_uri": "https://localhost:8080/"
        },
        "id": "pZ37BpBiW-Wf",
        "outputId": "e6da1508-2bfd-42f6-da6c-91e4c5a85864"
      },
      "source": [
        "from sklearn.metrics import max_error\r\n",
        "max_error(y_valid, y_pred)"
      ],
      "execution_count": null,
      "outputs": [
        {
          "output_type": "execute_result",
          "data": {
            "text/plain": [
              "23.184919357299805"
            ]
          },
          "metadata": {
            "tags": []
          },
          "execution_count": 21
        }
      ]
    },
    {
      "cell_type": "code",
      "metadata": {
        "colab": {
          "base_uri": "https://localhost:8080/"
        },
        "id": "viTxTXhZXIzP",
        "outputId": "05e5447f-6166-4d05-9f91-1c61916bb7ef"
      },
      "source": [
        "from sklearn.metrics import mean_squared_error\r\n",
        "mean_squared_error(y_valid, y_pred)"
      ],
      "execution_count": null,
      "outputs": [
        {
          "output_type": "execute_result",
          "data": {
            "text/plain": [
              "123.96518518308672"
            ]
          },
          "metadata": {
            "tags": []
          },
          "execution_count": 22
        }
      ]
    },
    {
      "cell_type": "code",
      "metadata": {
        "colab": {
          "base_uri": "https://localhost:8080/"
        },
        "id": "Oux3UG59XY8x",
        "outputId": "8c0f0bfe-5200-4752-e90c-a6f016acffd6"
      },
      "source": [
        "from sklearn.metrics import mean_squared_log_error\r\n",
        "mean_squared_log_error(y_valid, y_pred)"
      ],
      "execution_count": null,
      "outputs": [
        {
          "output_type": "execute_result",
          "data": {
            "text/plain": [
              "0.16149683733162873"
            ]
          },
          "metadata": {
            "tags": []
          },
          "execution_count": 23
        }
      ]
    },
    {
      "cell_type": "code",
      "metadata": {
        "colab": {
          "base_uri": "https://localhost:8080/"
        },
        "id": "CnDyEPwkXg91",
        "outputId": "cc569faa-36cd-4acd-fa45-6b73336e4c3b"
      },
      "source": [
        "from sklearn.metrics import r2_score\r\n",
        "r2_score(y_valid, y_pred)"
      ],
      "execution_count": null,
      "outputs": [
        {
          "output_type": "execute_result",
          "data": {
            "text/plain": [
              "0.06027251111746901"
            ]
          },
          "metadata": {
            "tags": []
          },
          "execution_count": 24
        }
      ]
    },
    {
      "cell_type": "code",
      "metadata": {
        "colab": {
          "base_uri": "https://localhost:8080/"
        },
        "id": "eMI3csXyYAbn",
        "outputId": "8a6d2ddd-2468-4d27-c9e0-810590ea6e29"
      },
      "source": [
        "from math import sqrt\r\n",
        "rmse = sqrt(mean_squared_error(y_valid, y_pred))\r\n",
        "print('Test RMSE: %.3f' % rmse)\r\n"
      ],
      "execution_count": null,
      "outputs": [
        {
          "output_type": "stream",
          "text": [
            "Test RMSE: 11.134\n"
          ],
          "name": "stdout"
        }
      ]
    },
    {
      "cell_type": "code",
      "metadata": {
        "id": "eLkSk0-dASzd"
      },
      "source": [
        "model.save('/home/hemlata/AML_maskdetection/vgg16_agenet.h5')"
      ],
      "execution_count": null,
      "outputs": []
    },
    {
      "cell_type": "code",
      "metadata": {
        "colab": {
          "base_uri": "https://localhost:8080/",
          "height": 404
        },
        "id": "FVRHVHI_cSje",
        "outputId": "6081d770-2ecc-4983-9db7-d64305868cad"
      },
      "source": [
        "N = 50\r\n",
        "#plt.style.use(\"ggplot\")\r\n",
        "plt.figure(figsize=(8,6))\r\n",
        "plt.plot(np.arange(0, N), H.history[\"loss\"], label=\"train_loss\")\r\n",
        "plt.plot(np.arange(0, N), H.history[\"val_loss\"], label=\"val_loss\")\r\n",
        "plt.plot(np.arange(0, N), H.history[\"root_mean_squared_error\"], label=\"train_acc\")\r\n",
        "plt.plot(np.arange(0, N), H.history[\"val_root_mean_squared_error\"], label=\"val_acc\")\r\n",
        "plt.title(\"Training Loss and Accuracy on Age Dataset\")\r\n",
        "plt.xlabel(\"Epoch #\")\r\n",
        "plt.ylabel(\"Loss/Accuracy\")\r\n",
        "plt.legend(loc=\"lower left\")\r\n",
        "plt.show()"
      ],
      "execution_count": null,
      "outputs": [
        {
          "output_type": "display_data",
          "data": {
            "image/png": "[encoded data removed]",
            "text/plain": [
              "<Figure size 576x432 with 1 Axes>"
            ]
          },
          "metadata": {
            "tags": [],
            "needs_background": "light"
          }
        }
      ]
    }
  ]
}